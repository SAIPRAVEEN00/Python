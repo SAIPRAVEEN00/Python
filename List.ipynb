{
 "cells": [
  {
   "cell_type": "code",
   "execution_count": 13,
   "metadata": {},
   "outputs": [
    {
     "data": {
      "text/plain": [
       "[34,\n",
       " 'Replaced element',\n",
       " 78,\n",
       " 'Inserted element',\n",
       " 63,\n",
       " 23,\n",
       " 75,\n",
       " 78,\n",
       " 34,\n",
       " 'Data Science',\n",
       " True,\n",
       " 'Big Data',\n",
       " 'Java Developer']"
      ]
     },
     "execution_count": 13,
     "metadata": {},
     "output_type": "execute_result"
    }
   ],
   "source": [
    "# list\n",
    "\n",
    "students_info=[34,56,78,63,23,75,78,34,'Data Science',True]\n",
    "\n",
    "type(students_info) # command to get the type of a phython object\n",
    "\n",
    "students_info[4] # Accessing elements of a list using index\n",
    "\n",
    "students_info[-1]\n",
    "\n",
    "students_info[4:8] # list slicing\n",
    "\n",
    "students_info[-3]\n",
    "\n",
    "students_info.append('Digital Marketing') # Append a single element in the list\n",
    "\n",
    "students_info.extend(['Big Data','Java Developer']) # Appending multiple elements in the list\n",
    "\n",
    "students_info.remove('Digital Marketing') # Removing elements from the list\n",
    "\n",
    "students_info.insert(3,'Inserted element') # Inserting elements in the list at a specified index\n",
    "\n",
    "students_info[1]='Replaced element'\n",
    "\n",
    "students_info"
   ]
  }
 ],
 "metadata": {
  "kernelspec": {
   "display_name": "Python 3",
   "language": "python",
   "name": "python3"
  },
  "language_info": {
   "codemirror_mode": {
    "name": "ipython",
    "version": 3
   },
   "file_extension": ".py",
   "mimetype": "text/x-python",
   "name": "python",
   "nbconvert_exporter": "python",
   "pygments_lexer": "ipython3",
   "version": "3.7.4"
  }
 },
 "nbformat": 4,
 "nbformat_minor": 2
}
