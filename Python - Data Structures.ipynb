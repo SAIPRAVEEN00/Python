{
 "cells": [
  {
   "cell_type": "code",
   "execution_count": 1,
   "metadata": {},
   "outputs": [
    {
     "data": {
      "text/plain": [
       "[34,\n",
       " 69,\n",
       " 54,\n",
       " 66,\n",
       " 38,\n",
       " 87,\n",
       " 77,\n",
       " 66,\n",
       " 65,\n",
       " 45,\n",
       " 'Data Science',\n",
       " 98.45,\n",
       " True,\n",
       " 'Second New Element',\n",
       " 'Second New Element',\n",
       " 'Third Element',\n",
       " ['Sublist_ele1', 'Sublist_ele2']]"
      ]
     },
     "execution_count": 1,
     "metadata": {},
     "output_type": "execute_result"
    }
   ],
   "source": [
    "# List\n",
    "\n",
    "scores=[34,69,54,66,38,87,77,66,65,45,'Data Science',98.45,True]\n",
    "\n",
    "type(scores) \n",
    "\n",
    "# Every element has an index\n",
    "scores[3] # Accessing elements of a list using index\n",
    "scores[-2]\n",
    "scores[2:6] # List Slicing\n",
    "scores[:3] #Output range is exclusive\n",
    "scores[-4:]\n",
    "\n",
    "scores.append('New Element') # Command to append an element to the list\n",
    "\n",
    "scores.append('Second New Element')\n",
    "scores.extend(['Second New Element','Third Element']) #Command to append more than one element to the list\n",
    "\n",
    "scores.insert(3,'Digital Marketing')#Inserting element at a specified index\n",
    "\n",
    "scores.remove('Digital Marketing')\n",
    "\n",
    "scores.append(['Sublist_ele1','Sublist_ele2'])\n",
    "\n",
    "scores.remove('New Element')\n",
    "\n",
    "scores"
   ]
  },
  {
   "cell_type": "code",
   "execution_count": 4,
   "metadata": {},
   "outputs": [
    {
     "data": {
      "text/plain": [
       "[34,\n",
       " 69,\n",
       " 54,\n",
       " 87,\n",
       " 77,\n",
       " 66,\n",
       " 65,\n",
       " 45,\n",
       " 'Data Science',\n",
       " 98.45,\n",
       " True,\n",
       " 'Second New Element',\n",
       " 'Second New Element',\n",
       " 'Third Element',\n",
       " ['Sublist_ele1', 'Sublist_ele2']]"
      ]
     },
     "execution_count": 4,
     "metadata": {},
     "output_type": "execute_result"
    }
   ],
   "source": [
    "scores.pop(3)#removing an element from a list based on its index\n",
    "\n",
    "scores"
   ]
  },
  {
   "cell_type": "code",
   "execution_count": 62,
   "metadata": {},
   "outputs": [
    {
     "ename": "AttributeError",
     "evalue": "'tuple' object has no attribute 'remove'",
     "output_type": "error",
     "traceback": [
      "\u001b[1;31m---------------------------------------------------------------------------\u001b[0m",
      "\u001b[1;31mAttributeError\u001b[0m                            Traceback (most recent call last)",
      "\u001b[1;32m<ipython-input-62-9bf4333ed63a>\u001b[0m in \u001b[0;36m<module>\u001b[1;34m()\u001b[0m\n\u001b[0;32m      5\u001b[0m \u001b[0mtup_scores\u001b[0m\u001b[1;33m[\u001b[0m\u001b[1;36m3\u001b[0m\u001b[1;33m:\u001b[0m\u001b[1;33m]\u001b[0m\u001b[1;33m\u001b[0m\u001b[0m\n\u001b[0;32m      6\u001b[0m \u001b[1;33m\u001b[0m\u001b[0m\n\u001b[1;32m----> 7\u001b[1;33m \u001b[0mtup_scores\u001b[0m\u001b[1;33m.\u001b[0m\u001b[0mremove\u001b[0m\u001b[1;33m(\u001b[0m\u001b[1;34m'Data Science'\u001b[0m\u001b[1;33m)\u001b[0m\u001b[1;33m\u001b[0m\u001b[0m\n\u001b[0m",
      "\u001b[1;31mAttributeError\u001b[0m: 'tuple' object has no attribute 'remove'"
     ]
    }
   ],
   "source": [
    "#Tuple\n",
    "\n",
    "tup_scores=(34,69,54,66,38,87,77,66,65,45,'Data Science',98.45,True)\n",
    "\n",
    "tup_scores[3:]\n",
    "\n",
    "tup_scores.remove('Data Science')\n",
    "      \n",
    "#Tuple is immutable & List is Mutable\n"
   ]
  },
  {
   "cell_type": "code",
   "execution_count": 67,
   "metadata": {},
   "outputs": [
    {
     "data": {
      "text/plain": [
       "list"
      ]
     },
     "execution_count": 67,
     "metadata": {},
     "output_type": "execute_result"
    }
   ],
   "source": [
    "a=[('Name','Manohar'),('Profession','Student'),('Hobbies','Eating')]\n",
    "\n",
    "a[2][1]\n",
    "\n",
    "type(a)\n",
    "\n",
    "[]--List\n",
    "()--Tuple"
   ]
  },
  {
   "cell_type": "code",
   "execution_count": 73,
   "metadata": {},
   "outputs": [
    {
     "data": {
      "text/plain": [
       "{'pizza_type': ['Veg', 'Non-Veg'],\n",
       " 'toppings': ['Paneer', 'Capsicum', 'Olives', 'Jalapenos'],\n",
       " 'base_type': ['thin crust', 'cheese burst', 'pan', 'hand-tossed'],\n",
       " 'payment_options': ['Debit', 'Credit', 'GooglePay', 'COD'],\n",
       " 'customer_review': 'Excellent',\n",
       " 'Delivery Time': 23}"
      ]
     },
     "execution_count": 73,
     "metadata": {},
     "output_type": "execute_result"
    }
   ],
   "source": [
    "#Dictionary\n",
    "pizza_dict={'pizza_type':['Veg','Non-Veg'],\n",
    "            'toppings':['Paneer','Capsicum','Olives','Jalapenos'],\n",
    "            'base_type':['thin crust','cheese burst','pan','hand-tossed'],\n",
    "            'payment_options':['Debit','Credit','GooglePay','COD'],\n",
    "            'customer_review':'Excellent'}\n",
    "\n",
    "\n",
    "pizza_dict['pizza_type'] # Accessing the values of a dictionary using key\n",
    "\n",
    "pizza_dict['Delivery Time']=23 # Appending a new key value pair to the dictionary\n",
    "\n",
    "pizza_dict\n",
    "\n"
   ]
  },
  {
   "cell_type": "code",
   "execution_count": 78,
   "metadata": {},
   "outputs": [
    {
     "data": {
      "text/plain": [
       "{4, 5, 6, 7, 23, 45, 89}"
      ]
     },
     "execution_count": 78,
     "metadata": {},
     "output_type": "execute_result"
    }
   ],
   "source": [
    "#Set\n",
    "\n",
    "set_a={23,23,4,5,6,7,23,45,5,6,89,89,89,89,89,89,89} # Stores the unique values\n",
    "\n",
    "set_a"
   ]
  },
  {
   "cell_type": "code",
   "execution_count": 92,
   "metadata": {},
   "outputs": [
    {
     "name": "stdout",
     "output_type": "stream",
     "text": [
      "1\n",
      "4\n",
      "9\n",
      "16\n",
      "25\n"
     ]
    }
   ],
   "source": [
    "a_list=[1,2,3,4,5]\n",
    "\n",
    "for ele in a_list:\n",
    "    print(ele**2)"
   ]
  },
  {
   "cell_type": "code",
   "execution_count": 113,
   "metadata": {},
   "outputs": [
    {
     "data": {
      "text/plain": [
       "[529, 119025, 3136, 589824, 63824121, 144]"
      ]
     },
     "execution_count": 113,
     "metadata": {},
     "output_type": "execute_result"
    }
   ],
   "source": [
    "# Write a program to square every element of a list and store this squared values in a new list\n",
    "\n",
    "squares_list=[] # Empty list\n",
    "\n",
    "b_list=[23,345,56,768,7989,12]\n",
    "\n",
    "for ele in b_list:\n",
    "    squares_list.append(ele**2)\n",
    "\n",
    "squares_list"
   ]
  },
  {
   "cell_type": "code",
   "execution_count": 98,
   "metadata": {},
   "outputs": [
    {
     "data": {
      "text/plain": [
       "[1, 8, 27, 64, 125]"
      ]
     },
     "execution_count": 98,
     "metadata": {},
     "output_type": "execute_result"
    }
   ],
   "source": [
    "sq_list=[ele**3 for ele in a_list]# List Comprehension\n",
    "sq_list"
   ]
  },
  {
   "cell_type": "code",
   "execution_count": 2,
   "metadata": {},
   "outputs": [
    {
     "name": "stdout",
     "output_type": "stream",
     "text": [
      "You are small\n",
      "You are small\n",
      "3\n",
      "4\n",
      "5\n"
     ]
    }
   ],
   "source": [
    "a_list=[1,2,3,4,5]\n",
    "\n",
    "for ele in a_list:\n",
    "    if ele>=3:\n",
    "        print(ele)\n",
    "    else:\n",
    "        print('You are small')\n"
   ]
  },
  {
   "cell_type": "code",
   "execution_count": 111,
   "metadata": {},
   "outputs": [
    {
     "data": {
      "text/plain": [
       "[3, 4, 5]"
      ]
     },
     "execution_count": 111,
     "metadata": {},
     "output_type": "execute_result"
    }
   ],
   "source": [
    "grt_3=[ele for ele in a_list if ele>=3] #List Comprehension\n",
    "grt_3"
   ]
  },
  {
   "cell_type": "code",
   "execution_count": 118,
   "metadata": {},
   "outputs": [
    {
     "data": {
      "text/plain": [
       "15"
      ]
     },
     "execution_count": 118,
     "metadata": {},
     "output_type": "execute_result"
    }
   ],
   "source": [
    "#Python Functions\n",
    "\n",
    "def add(x,y):\n",
    "    return x+y\n",
    "\n",
    "add(12,3)"
   ]
  },
  {
   "cell_type": "code",
   "execution_count": 121,
   "metadata": {},
   "outputs": [
    {
     "data": {
      "text/plain": [
       "[1, 4, 16, 36, 49, 713308619776]"
      ]
     },
     "execution_count": 121,
     "metadata": {},
     "output_type": "execute_result"
    }
   ],
   "source": [
    "#Write a python Function to square the elements of a list\n",
    "\n",
    "def squares(a):\n",
    "    return [ele**2 for ele in a]\n",
    "    \n",
    "squares([1,2,4,6,7,844576])   "
   ]
  },
  {
   "cell_type": "code",
   "execution_count": 126,
   "metadata": {},
   "outputs": [
    {
     "data": {
      "text/plain": [
       "[1, 3, 5, 7, 9]"
      ]
     },
     "execution_count": 126,
     "metadata": {},
     "output_type": "execute_result"
    }
   ],
   "source": [
    "list(range(1,11,2))\n",
    "\n",
    "{1:1,2:4,3:9,4:16,5:25}"
   ]
  },
  {
   "cell_type": "code",
   "execution_count": 2,
   "metadata": {},
   "outputs": [
    {
     "data": {
      "text/plain": [
       "{1: 1, 2: 4, 3: 9, 4: 16, 5: 25, 6: 36, 7: 49, 8: 64, 9: 81, 10: 100}"
      ]
     },
     "execution_count": 2,
     "metadata": {},
     "output_type": "execute_result"
    }
   ],
   "source": [
    "def squares_dict(n):\n",
    "    sq_dict={}\n",
    "    for val in range(1,n+1):\n",
    "        sq_dict[val]=val**2\n",
    "    return sq_dict\n",
    "\n",
    "def squares_dict(n):\n",
    "    return {ele:ele**2 for ele in range(1,n+1)} # Dictionary comprehension\n",
    "\n",
    "squares_dict(10)   "
   ]
  },
  {
   "cell_type": "code",
   "execution_count": 16,
   "metadata": {},
   "outputs": [
    {
     "data": {
      "text/plain": [
       "[-98, -12, -67, -43, -99, -16, 34, 56, 21, 5, 23, 76, 4]"
      ]
     },
     "execution_count": 16,
     "metadata": {},
     "output_type": "execute_result"
    }
   ],
   "source": [
    "a_list=[1,2,4,5,7,8,9]\n",
    "b_list=[34,45,7,7,8,978673456,435,6565,67,78,89]\n",
    "\n",
    "c=a_list+b_list\n",
    "c\n",
    "\n",
    "#Write a python function that reorders the elements of a list in the below fomat:\n",
    "\n",
    "i_p=[-98,34,-12,56,21,5,-67,-43,-99,23,76,4,-16]\n",
    "#o/p=[-98,-12,-67,-43,-99,-1634,56,21,5,23,76,4]\n",
    "\n",
    "\n",
    "# This fuction does ......\n",
    "def reorder(x):\n",
    "    neg_list=[]\n",
    "    pos_list=[]\n",
    "    for ele in x:\n",
    "        if ele<0:\n",
    "            neg_list.append(ele)\n",
    "        elif ele>0:\n",
    "            pos_list.append(ele)\n",
    "    return neg_list+pos_list\n",
    "        \n",
    "        \n",
    "def reorder_ls_comp(x):\n",
    "    return [ele for ele in x if ele<0]+[ele for ele in x if ele>0] # List comprehension\n",
    "\n",
    "reorder_ls_comp(i_p)\n"
   ]
  },
  {
   "cell_type": "code",
   "execution_count": 23,
   "metadata": {},
   "outputs": [
    {
     "data": {
      "text/plain": [
       "(-99, 76)"
      ]
     },
     "execution_count": 23,
     "metadata": {},
     "output_type": "execute_result"
    }
   ],
   "source": [
    "i_p.sort()\n",
    "\n",
    "# WAPF the takes a list and returns the smallest & largest number in the list\n",
    "def min_max(x):\n",
    "    x.sort()\n",
    "    return x[0],x[-1]\n",
    "    \n",
    "min_max(i_p)"
   ]
  },
  {
   "cell_type": "code",
   "execution_count": 38,
   "metadata": {},
   "outputs": [
    {
     "data": {
      "text/plain": [
       "120"
      ]
     },
     "execution_count": 38,
     "metadata": {},
     "output_type": "execute_result"
    }
   ],
   "source": [
    "#factorial(20)=20*19*18*.....*2*1\n",
    "\n",
    "#WAPF that returns the factorial of a number\n",
    "\n",
    "def factorial(number):\n",
    "    if number==0:\n",
    "        return 1\n",
    "    else:\n",
    "        fact=1\n",
    "        for num in range(1,number+1):\n",
    "            fact=fact*num\n",
    "            \n",
    "        return fact\n",
    "            \n",
    "factorial(5)"
   ]
  },
  {
   "cell_type": "code",
   "execution_count": 40,
   "metadata": {},
   "outputs": [
    {
     "data": {
      "text/plain": [
       "57"
      ]
     },
     "execution_count": 40,
     "metadata": {},
     "output_type": "execute_result"
    }
   ],
   "source": [
    "#WAPF the returns the sum of elements in a list\n",
    "\n",
    "def add(x):\n",
    "    res=0\n",
    "    for ele in x:\n",
    "        res=res+ele\n",
    "    return res\n",
    "\n",
    "add([1,2,3,4,5,6])\n",
    "\n",
    "res=0,ele=1, res=res+ele=1\n",
    "res=1,ele=2,res=res+ele=3\n",
    "res=3, ele=3, res=3+3=6\n",
    "res=6,ele=4,res=6+4=10"
   ]
  },
  {
   "cell_type": "code",
   "execution_count": 48,
   "metadata": {},
   "outputs": [
    {
     "data": {
      "text/plain": [
       "'madretsmA'"
      ]
     },
     "execution_count": 48,
     "metadata": {},
     "output_type": "execute_result"
    }
   ],
   "source": [
    "#WAPF to reverse a string\n",
    "\n",
    "location='Amsterdam'\n",
    "\n",
    "def reverse(string):\n",
    "    rev=''\n",
    "    for char in string:\n",
    "        rev=char+rev\n",
    "    return rev\n",
    "\n",
    "reverse('Amsterdam')\n",
    "\n",
    "'Amsterdam'[::-1]"
   ]
  },
  {
   "cell_type": "code",
   "execution_count": 57,
   "metadata": {},
   "outputs": [
    {
     "data": {
      "text/plain": [
       "(2, 30)"
      ]
     },
     "execution_count": 57,
     "metadata": {},
     "output_type": "execute_result"
    }
   ],
   "source": [
    "'m'.islower()\n",
    "\n",
    "#WAPF that takes a sentence string and returns the count of upper case & lower case characters in it\n",
    "\n",
    "def case_count(string):\n",
    "    \n",
    "    upper_count=0\n",
    "    lower_count=0\n",
    "    \n",
    "    for char in string:\n",
    "        if char.isupper():\n",
    "            upper_count=upper_count+1\n",
    "            \n",
    "        if char.islower():\n",
    "            lower_count=lower_count+1\n",
    "            \n",
    "    return upper_count,lower_count\n",
    "        \n",
    "case_count('Self-Quarantine is the order of the day')         \n",
    "        "
   ]
  },
  {
   "cell_type": "code",
   "execution_count": 72,
   "metadata": {},
   "outputs": [
    {
     "data": {
      "text/plain": [
       "12313"
      ]
     },
     "execution_count": 72,
     "metadata": {},
     "output_type": "execute_result"
    }
   ],
   "source": [
    "'Manohar'.isdigit()\n",
    "# WAPF to generate the below:\n",
    "\n",
    "#input_format=12,    313\n",
    "#output_format=12313\n",
    "\n",
    "def digits(x):\n",
    "    res=''\n",
    "    for char in x:\n",
    "        if char.isdigit():\n",
    "            res=res+char\n",
    "            \n",
    "    return int(res)\n",
    "  \n",
    "digits('12,   313')"
   ]
  },
  {
   "cell_type": "code",
   "execution_count": 12,
   "metadata": {},
   "outputs": [
    {
     "data": {
      "text/plain": [
       "'food favorite my is Pizza'"
      ]
     },
     "execution_count": 12,
     "metadata": {},
     "output_type": "execute_result"
    }
   ],
   "source": [
    "# Write a Python function the reverses the order of the words in a sentence\n",
    "\n",
    "ip='Pizza is my favorite food'\n",
    "op='food favorite my is Pizza'\n",
    "def words_reorder(sent):\n",
    "    rev_sent=sent[::-1]\n",
    "    rev_words=[]\n",
    "    for word in rev_sent.split():\n",
    "        rev_words.append(word[::-1])\n",
    "        \n",
    "    return ' '.join(rev_words)\n",
    "        \n",
    "    \n",
    "words_reorder(ip)"
   ]
  },
  {
   "cell_type": "code",
   "execution_count": 26,
   "metadata": {},
   "outputs": [
    {
     "data": {
      "text/plain": [
       "12"
      ]
     },
     "execution_count": 26,
     "metadata": {},
     "output_type": "execute_result"
    }
   ],
   "source": [
    "# *args is used to pass variable length non-keyworded arguments\n",
    "\n",
    "def add(x,y,*args): \n",
    "    res=0\n",
    "    for ele in args:\n",
    "        res=res+ele\n",
    "    return res\n",
    "\n",
    "add(2,3,5,7)"
   ]
  },
  {
   "cell_type": "code",
   "execution_count": 30,
   "metadata": {},
   "outputs": [
    {
     "name": "stdout",
     "output_type": "stream",
     "text": [
      "x 10\n",
      "y 20\n",
      "z 30\n"
     ]
    }
   ],
   "source": [
    "# **kwargs is used to pass variable length key-worded arguments\n",
    "def data(**kwargs):\n",
    "    for key,val in kwargs.items():\n",
    "        print(key,val)\n",
    "\n",
    "data(x=10,y=20,z=30)"
   ]
  },
  {
   "cell_type": "code",
   "execution_count": 31,
   "metadata": {},
   "outputs": [
    {
     "data": {
      "text/plain": [
       "5"
      ]
     },
     "execution_count": 31,
     "metadata": {},
     "output_type": "execute_result"
    }
   ],
   "source": [
    "#Single-line anonymized functions\n",
    "a=lambda x,y:x+y\n",
    "a(2,3)"
   ]
  },
  {
   "cell_type": "code",
   "execution_count": 1,
   "metadata": {},
   "outputs": [
    {
     "data": {
      "text/plain": [
       "95"
      ]
     },
     "execution_count": 1,
     "metadata": {},
     "output_type": "execute_result"
    }
   ],
   "source": [
    "a=[1,2,4,5,67,8,8]\n",
    "\n",
    "list(map(lambda x:x**2,a))\n",
    "\n",
    "list(filter(lambda x:x>5,a))\n",
    "\n",
    "from functools import reduce\n",
    "\n",
    "reduce(lambda p,q:p+q,a)"
   ]
  },
  {
   "cell_type": "code",
   "execution_count": 7,
   "metadata": {},
   "outputs": [],
   "source": [
    "string='[13:01, 3/27/2020] +91 79895 12415: saipraveen553@gmail.com[13:01, 3/27/2020] +91 79897 74096: maniivaturi@gmail.com[13:02, 3/27/2020] +91 86886 50613: md.nihalshariff@gmail.com[13:02, 3/27/2020] +91 79895 12415: Np sir[13:02, 3/27/2020] +91 76809 20804: kashyap1196@gmail.com[13:02, 3/27/2020] Abhijeet DN: Abhijeetdas87@gmail.com[13:02, 3/27/2020] +91 95029 89944: Mohapatra.sashikanta79@gmail.com[13:02, 3/27/2020] +91 83747 42521: nsunitha2010@gmail.com[13:02, 3/27/2020] +91 88018 40245: Omersyed2240@gmail.com[13:03, 3/27/2020] +91 90038 52599: pabhinayvarma2222@gmail.com[13:04, 3/27/2020] +91 89196 15890: Kartheek.medidaraju@gmail.com[13:06, 3/27/2020] +91 90004 01616: syedadilafroz@gmail.com[13:09, 3/27/2020] +91 88978 07580: chintalapudijayakrishna@gmail.com[13:12, 3/27/2020] +91 87974 19792: Shubhrock777@gmail.com[13:13, 3/27/2020] +91 94414 92433: abhishekvarma246@gmail.com[13:34, 3/27/2020] +91 81062 82829: Sailathareddy@gmail.com[13:54, 3/27/2020] +91 79951 31249: abhinavshetty1992@gmail.co[14:06, 3/27/2020] +91 97003 32030: thotapavankumar677@gmail.com'\n",
    "    \n",
    "import re\n",
    "\n",
    "email_ids=re.findall(r\"([a-zA-Z0-9+._-]+@[a-zA-Z0-9._-]+\\.[a-zA-Z0-9_-]+)\",string)"
   ]
  },
  {
   "cell_type": "code",
   "execution_count": 8,
   "metadata": {},
   "outputs": [
    {
     "name": "stdout",
     "output_type": "stream",
     "text": [
      "saipraveen553@gmail.com\n",
      "maniivaturi@gmail.com\n",
      "md.nihalshariff@gmail.com\n",
      "kashyap1196@gmail.com\n",
      "Abhijeetdas87@gmail.com\n",
      "Mohapatra.sashikanta79@gmail.com\n",
      "nsunitha2010@gmail.com\n",
      "Omersyed2240@gmail.com\n",
      "pabhinayvarma2222@gmail.com\n",
      "Kartheek.medidaraju@gmail.com\n",
      "syedadilafroz@gmail.com\n",
      "chintalapudijayakrishna@gmail.com\n",
      "Shubhrock777@gmail.com\n",
      "abhishekvarma246@gmail.com\n",
      "Sailathareddy@gmail.com\n",
      "abhinavshetty1992@gmail.co\n",
      "thotapavankumar677@gmail.com\n"
     ]
    }
   ],
   "source": [
    "for email in email_ids:\n",
    "    print(email)"
   ]
  }
 ],
 "metadata": {
  "kernelspec": {
   "display_name": "Python 3",
   "language": "python",
   "name": "python3"
  },
  "language_info": {
   "codemirror_mode": {
    "name": "ipython",
    "version": 3
   },
   "file_extension": ".py",
   "mimetype": "text/x-python",
   "name": "python",
   "nbconvert_exporter": "python",
   "pygments_lexer": "ipython3",
   "version": "3.7.4"
  }
 },
 "nbformat": 4,
 "nbformat_minor": 2
}
