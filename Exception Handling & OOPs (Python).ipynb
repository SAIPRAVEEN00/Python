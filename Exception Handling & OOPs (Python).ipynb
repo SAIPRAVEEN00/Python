{
 "cells": [
  {
   "cell_type": "markdown",
   "metadata": {},
   "source": [
    "# Exception Handling"
   ]
  },
  {
   "cell_type": "code",
   "execution_count": 3,
   "metadata": {},
   "outputs": [
    {
     "data": {
      "text/plain": [
       "'Dude! cannot divide by zero'"
      ]
     },
     "execution_count": 3,
     "metadata": {},
     "output_type": "execute_result"
    }
   ],
   "source": [
    " def division(x,y):\n",
    "    try:\n",
    "        return X/y\n",
    "    except:\n",
    "        return 'Dude! cannot divide by zero'\n",
    "    \n",
    "division(45,0)"
   ]
  },
  {
   "cell_type": "markdown",
   "metadata": {},
   "source": [
    "# Different Types Of Errors In Python"
   ]
  },
  {
   "cell_type": "code",
   "execution_count": 9,
   "metadata": {},
   "outputs": [
    {
     "ename": "ZeroDivisionError",
     "evalue": "division by zero",
     "output_type": "error",
     "traceback": [
      "\u001b[1;31m---------------------------------------------------------------------------\u001b[0m",
      "\u001b[1;31mZeroDivisionError\u001b[0m                         Traceback (most recent call last)",
      "\u001b[1;32m<ipython-input-9-4b14550cd932>\u001b[0m in \u001b[0;36m<module>\u001b[1;34m\u001b[0m\n\u001b[0;32m      3\u001b[0m     \u001b[1;32mreturn\u001b[0m \u001b[0mx\u001b[0m\u001b[1;33m/\u001b[0m\u001b[0my\u001b[0m\u001b[1;33m\u001b[0m\u001b[1;33m\u001b[0m\u001b[0m\n\u001b[0;32m      4\u001b[0m \u001b[1;33m\u001b[0m\u001b[0m\n\u001b[1;32m----> 5\u001b[1;33m \u001b[0mdivision\u001b[0m\u001b[1;33m(\u001b[0m\u001b[1;36m45\u001b[0m\u001b[1;33m,\u001b[0m\u001b[1;36m0\u001b[0m\u001b[1;33m)\u001b[0m\u001b[1;33m\u001b[0m\u001b[1;33m\u001b[0m\u001b[0m\n\u001b[0m",
      "\u001b[1;32m<ipython-input-9-4b14550cd932>\u001b[0m in \u001b[0;36mdivision\u001b[1;34m(x, y)\u001b[0m\n\u001b[0;32m      1\u001b[0m \u001b[1;32mdef\u001b[0m \u001b[0mdivision\u001b[0m\u001b[1;33m(\u001b[0m\u001b[0mx\u001b[0m\u001b[1;33m,\u001b[0m\u001b[0my\u001b[0m\u001b[1;33m)\u001b[0m\u001b[1;33m:\u001b[0m\u001b[1;33m\u001b[0m\u001b[1;33m\u001b[0m\u001b[0m\n\u001b[0;32m      2\u001b[0m \u001b[1;33m\u001b[0m\u001b[0m\n\u001b[1;32m----> 3\u001b[1;33m     \u001b[1;32mreturn\u001b[0m \u001b[0mx\u001b[0m\u001b[1;33m/\u001b[0m\u001b[0my\u001b[0m\u001b[1;33m\u001b[0m\u001b[1;33m\u001b[0m\u001b[0m\n\u001b[0m\u001b[0;32m      4\u001b[0m \u001b[1;33m\u001b[0m\u001b[0m\n\u001b[0;32m      5\u001b[0m \u001b[0mdivision\u001b[0m\u001b[1;33m(\u001b[0m\u001b[1;36m45\u001b[0m\u001b[1;33m,\u001b[0m\u001b[1;36m0\u001b[0m\u001b[1;33m)\u001b[0m\u001b[1;33m\u001b[0m\u001b[1;33m\u001b[0m\u001b[0m\n",
      "\u001b[1;31mZeroDivisionError\u001b[0m: division by zero"
     ]
    }
   ],
   "source": [
    "def division(x,y):\n",
    "    \n",
    "    return x/y\n",
    "\n",
    "division(45,0)"
   ]
  },
  {
   "cell_type": "code",
   "execution_count": 6,
   "metadata": {},
   "outputs": [
    {
     "ename": "ModuleNotFoundError",
     "evalue": "No module named 'pnd'",
     "output_type": "error",
     "traceback": [
      "\u001b[1;31m---------------------------------------------------------------------------\u001b[0m",
      "\u001b[1;31mModuleNotFoundError\u001b[0m                       Traceback (most recent call last)",
      "\u001b[1;32m<ipython-input-6-3da1b14f9f2b>\u001b[0m in \u001b[0;36m<module>\u001b[1;34m\u001b[0m\n\u001b[1;32m----> 1\u001b[1;33m \u001b[1;32mimport\u001b[0m \u001b[0mpnd\u001b[0m \u001b[1;32mas\u001b[0m \u001b[0mpd\u001b[0m\u001b[1;33m\u001b[0m\u001b[1;33m\u001b[0m\u001b[0m\n\u001b[0m",
      "\u001b[1;31mModuleNotFoundError\u001b[0m: No module named 'pnd'"
     ]
    }
   ],
   "source": [
    "import pnd as pd"
   ]
  },
  {
   "cell_type": "code",
   "execution_count": 10,
   "metadata": {},
   "outputs": [
    {
     "ename": "SyntaxError",
     "evalue": "invalid syntax (<ipython-input-10-87e9e796125c>, line 1)",
     "output_type": "error",
     "traceback": [
      "\u001b[1;36m  File \u001b[1;32m\"<ipython-input-10-87e9e796125c>\"\u001b[1;36m, line \u001b[1;32m1\u001b[0m\n\u001b[1;33m    Exceptions---> RunTime Errors\u001b[0m\n\u001b[1;37m                 ^\u001b[0m\n\u001b[1;31mSyntaxError\u001b[0m\u001b[1;31m:\u001b[0m invalid syntax\n"
     ]
    }
   ],
   "source": [
    "Exceptions---> RunTime Errors"
   ]
  },
  {
   "cell_type": "markdown",
   "metadata": {},
   "source": [
    "# Object Oriented Programming ---> OOPs"
   ]
  },
  {
   "cell_type": "code",
   "execution_count": null,
   "metadata": {},
   "outputs": [],
   "source": [
    "#Zomato\n",
    "1. Reserve a Table\n",
    "2. Order Food\n",
    "3. Restaurant Search\n",
    "4. Restaurant Deals"
   ]
  },
  {
   "cell_type": "code",
   "execution_count": 43,
   "metadata": {},
   "outputs": [
    {
     "name": "stdout",
     "output_type": "stream",
     "text": [
      "Kebab\n",
      "Biryani\n"
     ]
    },
    {
     "data": {
      "text/plain": [
       "'Your order has been confirmed'"
      ]
     },
     "execution_count": 43,
     "metadata": {},
     "output_type": "execute_result"
    }
   ],
   "source": [
    "class Zomato:\n",
    "    \n",
    "    def __init__(self,res_name,location,colony):\n",
    "        self.res_name=res_name\n",
    "        self.location=location\n",
    "        self.colony=colony\n",
    "    \n",
    "    def res_table(self,count): # Instance method\n",
    "        return 'Table has been reserved'\n",
    "    \n",
    "    def order_food(x,items):\n",
    "        for ele in items:\n",
    "            print(ele)\n",
    "        return 'Your order has been confirmed'\n",
    "    \n",
    "    def res_search():\n",
    "        return 'Done'\n",
    "\n",
    "cust_1 = Zomato('Autumn_leaf','Hyderabad','Srinagar') # object instantiation\n",
    "\n",
    "cust_2 = Zomato('Theory','Hyderabad','Jubilee hills')\n",
    "\n",
    "cust_2.order_food(['Kebab','Biryani'])"
   ]
  },
  {
   "cell_type": "code",
   "execution_count": 24,
   "metadata": {},
   "outputs": [
    {
     "data": {
      "text/plain": [
       "'Done'"
      ]
     },
     "execution_count": 24,
     "metadata": {},
     "output_type": "execute_result"
    }
   ],
   "source": [
    "Zomato.res_search()"
   ]
  },
  {
   "cell_type": "code",
   "execution_count": 46,
   "metadata": {},
   "outputs": [
    {
     "name": "stdout",
     "output_type": "stream",
     "text": [
      "Kebab\n",
      "Biryani\n",
      "Your order has been confirmed at Autumn_leaf from Hyderabad\n"
     ]
    }
   ],
   "source": [
    "class Zomato:\n",
    "    \n",
    "    def __init__(self,res_name,location,colony):\n",
    "        self.res_name=res_name\n",
    "        self.location=location\n",
    "        self.colony=colony\n",
    "    \n",
    "    def res_table(self,count): # Instance method\n",
    "        return 'Table has been reserved'\n",
    "    \n",
    "    def order_food(self,items):\n",
    "        for ele in items:\n",
    "            print(ele)\n",
    "        print('Your order has been confirmed at',self.res_name,'from',self.location)\n",
    "    \n",
    "    def res_search():\n",
    "        return 'Done'\n",
    "\n",
    "cust_1 = Zomato('Autumn_leaf','Hyderabad','Srinagar') # object instantiation\n",
    "\n",
    "cust_2 = Zomato('Theory','Hyderabad','Jubilee hills')\n",
    "\n",
    "cust_1.order_food(['Kebab','Biryani'])"
   ]
  },
  {
   "cell_type": "code",
   "execution_count": 48,
   "metadata": {},
   "outputs": [
    {
     "name": "stdout",
     "output_type": "stream",
     "text": [
      "Kebab\n",
      "Biryani\n",
      "Your order has been confirmed at Autumn_leaf from Hyderabad\n"
     ]
    }
   ],
   "source": [
    "# Inheritance\n",
    "\n",
    "class Swiggy(Zomato): # Zomato ---> Parent Class , Swiggy ---> Child/SubClass\n",
    "    pass\n",
    "\n",
    "\n",
    "swiggy_cust=Swiggy('Autumn_leaf','Hyderabad','Srinagar')\n",
    "\n",
    "swiggy_cust.order_food(['Kebab','Biryani'])"
   ]
  }
 ],
 "metadata": {
  "kernelspec": {
   "display_name": "Python 3",
   "language": "python",
   "name": "python3"
  },
  "language_info": {
   "codemirror_mode": {
    "name": "ipython",
    "version": 3
   },
   "file_extension": ".py",
   "mimetype": "text/x-python",
   "name": "python",
   "nbconvert_exporter": "python",
   "pygments_lexer": "ipython3",
   "version": "3.7.4"
  }
 },
 "nbformat": 4,
 "nbformat_minor": 2
}
