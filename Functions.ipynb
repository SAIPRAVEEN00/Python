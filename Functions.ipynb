{
 "cells": [
  {
   "cell_type": "code",
   "execution_count": 2,
   "metadata": {},
   "outputs": [
    {
     "data": {
      "text/plain": [
       "function"
      ]
     },
     "execution_count": 2,
     "metadata": {},
     "output_type": "execute_result"
    }
   ],
   "source": [
    "# Phython function: Start with the keyword 'def'\n",
    "def add(x,y):\n",
    "    return x+y\n",
    "\n",
    "add(2,3)\n",
    "add(45,24)\n",
    "add(34,465)\n",
    "add(0,2)\n",
    "\n",
    "type(add)"
   ]
  },
  {
   "cell_type": "code",
   "execution_count": 3,
   "metadata": {},
   "outputs": [
    {
     "data": {
      "text/plain": [
       "[144, 1156, 4624, 81, 98942809, 529, 2025, 49, 64, 9621648100]"
      ]
     },
     "execution_count": 3,
     "metadata": {},
     "output_type": "execute_result"
    }
   ],
   "source": [
    "def squares(x):\n",
    "    return [ele**2 for ele in x]\n",
    "\n",
    "squares([23,6,57,7,89])\n",
    "squares((12,34,68,9,9947,23,45,7,8,98090))"
   ]
  },
  {
   "cell_type": "code",
   "execution_count": 4,
   "metadata": {},
   "outputs": [
    {
     "data": {
      "text/plain": [
       "1128"
      ]
     },
     "execution_count": 4,
     "metadata": {},
     "output_type": "execute_result"
    }
   ],
   "source": [
    "def add(a_list):\n",
    "    result=0\n",
    "    for ele in a_list:\n",
    "        result=result+ele\n",
    "    return result\n",
    "\n",
    "add([1,2,3])\n",
    "add((23,4,6,7,8,9))\n",
    "add([23,5,8,898,23,46,57,68])"
   ]
  },
  {
   "cell_type": "code",
   "execution_count": 5,
   "metadata": {},
   "outputs": [
    {
     "data": {
      "text/plain": [
       "30"
      ]
     },
     "execution_count": 5,
     "metadata": {},
     "output_type": "execute_result"
    }
   ],
   "source": [
    "def mul(a_list):\n",
    "    result=1\n",
    "    for ele in a_list:\n",
    "        result=result*ele\n",
    "        \n",
    "    return result\n",
    "\n",
    "mul([5,3,2])"
   ]
  },
  {
   "cell_type": "code",
   "execution_count": 6,
   "metadata": {},
   "outputs": [
    {
     "data": {
      "text/plain": [
       "-6"
      ]
     },
     "execution_count": 6,
     "metadata": {},
     "output_type": "execute_result"
    }
   ],
   "source": [
    "def sub(a_list):\n",
    "    result=0\n",
    "    for ele in a_list:\n",
    "        result=result-ele\n",
    "        \n",
    "    return result\n",
    "\n",
    "sub([3,2,1])"
   ]
  },
  {
   "cell_type": "code",
   "execution_count": 7,
   "metadata": {},
   "outputs": [
    {
     "data": {
      "text/plain": [
       "1.6666666666666667"
      ]
     },
     "execution_count": 7,
     "metadata": {},
     "output_type": "execute_result"
    }
   ],
   "source": [
    "def div(a_list):\n",
    "    result=10\n",
    "    for ele in a_list:\n",
    "        result=result/ele\n",
    "        \n",
    "    return result\n",
    "div([1,2,3])"
   ]
  },
  {
   "cell_type": "code",
   "execution_count": 8,
   "metadata": {},
   "outputs": [],
   "source": [
    "# Python functions\n",
    "def reorder(list_a):\n",
    "    pos_list=[]\n",
    "    neg_list=[]\n",
    "    for ele in list_a:\n",
    "        if ele>0:\n",
    "            pos_list.append(ele)\n",
    "        else:\n",
    "            neg_list.append(ele)\n",
    "    return neg_list+pos_list"
   ]
  },
  {
   "cell_type": "code",
   "execution_count": 9,
   "metadata": {},
   "outputs": [
    {
     "data": {
      "text/plain": [
       "[-49, -96, -6, -13, 69, 43, 89, 14, 26]"
      ]
     },
     "execution_count": 9,
     "metadata": {},
     "output_type": "execute_result"
    }
   ],
   "source": [
    "reorder([-49,-96,69,43,89,-6,-13,14,26])"
   ]
  },
  {
   "cell_type": "code",
   "execution_count": 10,
   "metadata": {},
   "outputs": [
    {
     "data": {
      "text/plain": [
       "[-34, -12, -69, -43, 90, 45, 23, 98]"
      ]
     },
     "execution_count": 10,
     "metadata": {},
     "output_type": "execute_result"
    }
   ],
   "source": [
    "def reorder_1(list_a):\n",
    "    return [ele for ele in list_a if ele<0] + [ele for ele in list_a if ele>0]\n",
    "reorder_1([-34,-12,-69,-43,90,45,23,98])"
   ]
  },
  {
   "cell_type": "code",
   "execution_count": 11,
   "metadata": {},
   "outputs": [
    {
     "data": {
      "text/plain": [
       "[1,\n",
       " 2,\n",
       " 3,\n",
       " 4,\n",
       " 5,\n",
       " 6,\n",
       " 7,\n",
       " 8,\n",
       " 9,\n",
       " 10,\n",
       " 11,\n",
       " 12,\n",
       " 13,\n",
       " 14,\n",
       " 15,\n",
       " 16,\n",
       " 17,\n",
       " 18,\n",
       " 19,\n",
       " 20,\n",
       " 21,\n",
       " 22,\n",
       " 23,\n",
       " 24,\n",
       " 25]"
      ]
     },
     "execution_count": 11,
     "metadata": {},
     "output_type": "execute_result"
    }
   ],
   "source": [
    "list(range(1,11))\n",
    "list(range(1,26))"
   ]
  },
  {
   "cell_type": "code",
   "execution_count": 12,
   "metadata": {},
   "outputs": [
    {
     "data": {
      "text/plain": [
       "{1: 1, 2: 4, 3: 9, 4: 16, 5: 25, 6: 36, 7: 49, 8: 64, 9: 81, 10: 100}"
      ]
     },
     "execution_count": 12,
     "metadata": {},
     "output_type": "execute_result"
    }
   ],
   "source": [
    "def fill_dict(n):\n",
    "    sq_dict={}\n",
    "    for ele in range(1,n+1):\n",
    "        sq_dict[ele]=ele**2\n",
    "    return sq_dict\n",
    "fill_dict(10)"
   ]
  },
  {
   "cell_type": "code",
   "execution_count": 13,
   "metadata": {},
   "outputs": [
    {
     "data": {
      "text/plain": [
       "(1, 87)"
      ]
     },
     "execution_count": 13,
     "metadata": {},
     "output_type": "execute_result"
    }
   ],
   "source": [
    "def small_large(list_a):\n",
    "    list_a.sort()\n",
    "    return list_a[0],list_a[-1]\n",
    "\n",
    "small_large([12,34,1,8,3,7,45,32,67,87,45])"
   ]
  },
  {
   "cell_type": "code",
   "execution_count": 14,
   "metadata": {},
   "outputs": [
    {
     "data": {
      "text/plain": [
       "['3', '33', '333']"
      ]
     },
     "execution_count": 14,
     "metadata": {},
     "output_type": "execute_result"
    }
   ],
   "source": [
    "def sequence(n):\n",
    "    seq_list=[]\n",
    "    for ele in range(1,n+1):\n",
    "        seq_list.append(str(n)*ele)\n",
    "        \n",
    "    return seq_list\n",
    "sequence(3)"
   ]
  },
  {
   "cell_type": "code",
   "execution_count": 15,
   "metadata": {},
   "outputs": [
    {
     "data": {
      "text/plain": [
       "369"
      ]
     },
     "execution_count": 15,
     "metadata": {},
     "output_type": "execute_result"
    }
   ],
   "source": [
    " def sequence(n):\n",
    "    seq_list=[]\n",
    "    for ele in range(1,n+1):\n",
    "        seq_list.append(str(n)*ele)\n",
    "    \n",
    "    res=0\n",
    "    for ele in seq_list:\n",
    "        res=res+int(ele)\n",
    "    return res\n",
    "\n",
    "sequence(3)"
   ]
  },
  {
   "cell_type": "code",
   "execution_count": 16,
   "metadata": {},
   "outputs": [
    {
     "data": {
      "text/plain": [
       "[55, 15, 42, 63, 39, 94]"
      ]
     },
     "execution_count": 16,
     "metadata": {},
     "output_type": "execute_result"
    }
   ],
   "source": [
    "def remainder(n):\n",
    "    return n%5\n",
    "\n",
    "sorted([63,39,94,42,55,15],key=remainder)"
   ]
  },
  {
   "cell_type": "code",
   "execution_count": 17,
   "metadata": {},
   "outputs": [
    {
     "name": "stdout",
     "output_type": "stream",
     "text": [
      "[1, 2, 3, 4, 5]\n"
     ]
    }
   ],
   "source": [
    "def unique_list(l):\n",
    "  x = []\n",
    "  for a in l:\n",
    "    if a not in x:\n",
    "      x.append(a)\n",
    "  return x\n",
    "\n",
    "print(unique_list([1,2,3,3,3,3,4,5]))"
   ]
  },
  {
   "cell_type": "code",
   "execution_count": 28,
   "metadata": {},
   "outputs": [
    {
     "name": "stdout",
     "output_type": "stream",
     "text": [
      "[[1, 2, 3, 4, 5], [6, 7, 8, 9]]\n"
     ]
    }
   ],
   "source": [
    "n = 5\n",
    "my_list=[1,2,3,4,5,6,7,8,9]\n",
    "x = list(divide_chunks(my_list, n)) \n",
    "print (x) "
   ]
  },
  {
   "cell_type": "code",
   "execution_count": 32,
   "metadata": {},
   "outputs": [
    {
     "name": "stdout",
     "output_type": "stream",
     "text": [
      "[[1, 2, 3], [4, 5, 6], [7, 8, 9], [10, 11, 12]]\n"
     ]
    }
   ],
   "source": [
    "n=3\n",
    "my_list=[1,2,3,4,5,6,7,8,9,10,11,12]\n",
    "\n",
    "x=list(divide_chunks(my_list,n))\n",
    "\n",
    "print(x)"
   ]
  },
  {
   "cell_type": "code",
   "execution_count": 36,
   "metadata": {},
   "outputs": [
    {
     "name": "stdout",
     "output_type": "stream",
     "text": [
      "[1, 2, 3]\n",
      "[4, 5, 6]\n",
      "[7, 8, 9]\n",
      "[10, 11, 12]\n",
      "[13, 14]\n"
     ]
    }
   ],
   "source": [
    "def chunks(a_list,n):\n",
    "    for i in range(0,len(a_list),n):\n",
    "        print(a_list[i:i+n])\n",
    "\n",
    "chunks([1,2,3,4,5,6,7,8,9,10,11,12,13,14],3)"
   ]
  }
 ],
 "metadata": {
  "kernelspec": {
   "display_name": "Python 3",
   "language": "python",
   "name": "python3"
  },
  "language_info": {
   "codemirror_mode": {
    "name": "ipython",
    "version": 3
   },
   "file_extension": ".py",
   "mimetype": "text/x-python",
   "name": "python",
   "nbconvert_exporter": "python",
   "pygments_lexer": "ipython3",
   "version": "3.7.4"
  }
 },
 "nbformat": 4,
 "nbformat_minor": 2
}
