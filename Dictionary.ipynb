{
 "cells": [
  {
   "cell_type": "code",
   "execution_count": 4,
   "metadata": {},
   "outputs": [
    {
     "data": {
      "text/plain": [
       "{'pizza_type': ['pizza mania', 'pizza combo', 'Third pizza type'],\n",
       " 'toppings': ['Capsium', 'olives', 'jalapenous', 'Onions'],\n",
       " 'base_type': ['thin crust', 'cheese burst', 'pan based', 'hand tossesd'],\n",
       " 'payment_mode': ['Debit Card', 'Credit Card', 'COD'],\n",
       " 'Review': 'Very Good',\n",
       " 'Delivery_time': 30}"
      ]
     },
     "execution_count": 4,
     "metadata": {},
     "output_type": "execute_result"
    }
   ],
   "source": [
    "# Dictionary\n",
    "\n",
    "pizza_dict={'pizza_type':['Veg','Non Veg'],\n",
    "             'toppings':['Capsium','olives','jalapenous','Onions'],\n",
    "             'base_type':['thin crust','cheese burst','pan based','hand tossesd'],\n",
    "             'payment_mode':['Debit Card','Credit Card','COD'],\n",
    "             'Review':'Very Good'\n",
    "}\n",
    "\n",
    "type(pizza_dict)\n",
    "\n",
    "pizza_dict['Review'] # Accessing values from a dictionary using key\n",
    "\n",
    "pizza_dict['Delivery_time']=30 # Creating a new key-value pair\n",
    "\n",
    "pizza_dict['pizza_type']=['pizza mania','pizza combo'] # Replace the existing value for a given key\n",
    "\n",
    "pizza_dict['pizza_type'].append('Third pizza type') # Appending new vaules to the existing ones\n",
    "\n",
    "pizza_dict"
   ]
  }
 ],
 "metadata": {
  "kernelspec": {
   "display_name": "Python 3",
   "language": "python",
   "name": "python3"
  },
  "language_info": {
   "codemirror_mode": {
    "name": "ipython",
    "version": 3
   },
   "file_extension": ".py",
   "mimetype": "text/x-python",
   "name": "python",
   "nbconvert_exporter": "python",
   "pygments_lexer": "ipython3",
   "version": "3.7.4"
  }
 },
 "nbformat": 4,
 "nbformat_minor": 2
}
