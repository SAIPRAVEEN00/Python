{
 "cells": [
  {
   "cell_type": "code",
   "execution_count": 6,
   "metadata": {},
   "outputs": [
    {
     "name": "stdout",
     "output_type": "stream",
     "text": [
      "False\n"
     ]
    }
   ],
   "source": [
    "string = 'This is sentence' \n",
    "\n",
    "print(string.islower())"
   ]
  },
  {
   "cell_type": "code",
   "execution_count": 7,
   "metadata": {},
   "outputs": [
    {
     "name": "stdout",
     "output_type": "stream",
     "text": [
      "False\n"
     ]
    }
   ],
   "source": [
    "string = 'This is sentence' \n",
    "\n",
    "print(string.isupper())"
   ]
  },
  {
   "cell_type": "code",
   "execution_count": 8,
   "metadata": {},
   "outputs": [
    {
     "name": "stdout",
     "output_type": "stream",
     "text": [
      "True\n"
     ]
    }
   ],
   "source": [
    "string = 'this is sentence' \n",
    "\n",
    "print(string.islower())"
   ]
  },
  {
   "cell_type": "code",
   "execution_count": 16,
   "metadata": {},
   "outputs": [
    {
     "data": {
      "text/plain": [
       "(40, 6)"
      ]
     },
     "execution_count": 16,
     "metadata": {},
     "output_type": "execute_result"
    }
   ],
   "source": [
    "def case_count(string):\n",
    "    upper_count=0\n",
    "    lower_count=0\n",
    "\n",
    "    for ele in string:\n",
    "        if ele.isupper():\n",
    "            upper_count=upper_count+1\n",
    "        if ele.islower():\n",
    "            lower_count=lower_count+1\n",
    "        \n",
    "    return lower_count,upper_count\n",
    "\n",
    "case_count('NehaDupia has become the new content for the MEME maker')"
   ]
  },
  {
   "cell_type": "code",
   "execution_count": 28,
   "metadata": {},
   "outputs": [
    {
     "name": "stdout",
     "output_type": "stream",
     "text": [
      "Enter a number1, 20 , 000\n",
      "120000\n"
     ]
    }
   ],
   "source": [
    "a=input('Enter a number')\n",
    "\n",
    "res_string=''\n",
    "for char in a:\n",
    "    if char.isdigit():\n",
    "       res_string = res_string+char\n",
    "print(res_string)\n"
   ]
  },
  {
   "cell_type": "code",
   "execution_count": 30,
   "metadata": {},
   "outputs": [
    {
     "data": {
      "text/plain": [
       "30"
      ]
     },
     "execution_count": 30,
     "metadata": {},
     "output_type": "execute_result"
    }
   ],
   "source": [
    "def add(*args):\n",
    "    res=0\n",
    "    for ele in args:\n",
    "        res=res+ele\n",
    "        \n",
    "    return res\n",
    "\n",
    "add(1,2,4,3,4,8,8)"
   ]
  },
  {
   "cell_type": "code",
   "execution_count": 29,
   "metadata": {},
   "outputs": [
    {
     "data": {
      "text/plain": [
       "27"
      ]
     },
     "execution_count": 29,
     "metadata": {},
     "output_type": "execute_result"
    }
   ],
   "source": [
    "def add(x,y,*args): # to pass variable length of arguments\n",
    "    res=0\n",
    "    for ele in args:\n",
    "        res=res+ele\n",
    "        \n",
    "    return res\n",
    "\n",
    "add(1,2,4,3,4,8,8)"
   ]
  }
 ],
 "metadata": {
  "kernelspec": {
   "display_name": "Python 3",
   "language": "python",
   "name": "python3"
  },
  "language_info": {
   "codemirror_mode": {
    "name": "ipython",
    "version": 3
   },
   "file_extension": ".py",
   "mimetype": "text/x-python",
   "name": "python",
   "nbconvert_exporter": "python",
   "pygments_lexer": "ipython3",
   "version": "3.7.4"
  }
 },
 "nbformat": 4,
 "nbformat_minor": 2
}
